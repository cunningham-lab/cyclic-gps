{
 "cells": [
  {
   "cell_type": "code",
   "execution_count": 1,
   "metadata": {},
   "outputs": [],
   "source": [
    "import torch\n",
    "from torch.utils.data import DataLoader\n",
    "import pytorch_lightning as pl\n",
    "import scipy as sp\n",
    "import scipy.ndimage\n",
    "from cyclic_gps.models import LEGFamily\n",
    "from cyclic_gps.data_utils import time_series_dataloader\n",
    "import matplotlib.pyplot as plt"
   ]
  },
  {
   "cell_type": "code",
   "execution_count": 2,
   "metadata": {},
   "outputs": [
    {
     "data": {
      "text/plain": [
       "<matplotlib.collections.PathCollection at 0x7face13b9c40>"
      ]
     },
     "execution_count": 2,
     "metadata": {},
     "output_type": "execute_result"
    },
    {
     "data": {
      "image/png": "[encoded data removed]",
      "text/plain": [
       "<Figure size 432x288 with 1 Axes>"
      ]
     },
     "metadata": {
      "needs_background": "light"
     },
     "output_type": "display_data"
    }
   ],
   "source": [
    "num_datapoints = 100\n",
    "sample1_ts = torch.empty(num_datapoints)\n",
    "sample1_ts = torch.cumsum(sample1_ts.exponential_(lambd=1) + 0.01, dim=0)\n",
    "sample1_vals = torch.tensor(\n",
    "    sp.ndimage.gaussian_filter1d(torch.randn(num_datapoints), 10, axis=0)[:, None]\n",
    ")\n",
    "sample2_vals = torch.tensor(\n",
    "    sp.ndimage.gaussian_filter1d(torch.randn(num_datapoints), 10, axis=0)[:, None]\n",
    ")\n",
    "vals = torch.cat([sample1_vals, sample2_vals], dim=-1)\n",
    "\n",
    "assert vals.shape == (num_datapoints, 2)\n",
    "assert sample1_ts.shape == (num_datapoints,)\n",
    "\n",
    "plt.scatter(sample1_ts, vals[:, 0])\n",
    "plt.scatter(sample1_ts, vals[:, 1])"
   ]
  },
  {
   "cell_type": "code",
   "execution_count": 4,
   "metadata": {},
   "outputs": [],
   "source": [
    "# generate torch dataset\n",
    "dataset = time_series_dataloader(sample1_ts.unsqueeze(0), vals.unsqueeze(0))\n",
    "example = dataset[0]\n",
    "assert torch.allclose(example[0], sample1_ts.unsqueeze(0)) # we're getting our data plus one batch element\n",
    "dl = DataLoader(dataset=dataset, batch_size=1)\n"
   ]
  },
  {
   "cell_type": "code",
   "execution_count": 5,
   "metadata": {},
   "outputs": [],
   "source": [
    "RANK = 5\n",
    "MAX_EPOCHS = 100\n",
    "LEG_model = LEGFamily(rank=RANK, obs_dim=vals.shape[1], train=True)"
   ]
  },
  {
   "cell_type": "code",
   "execution_count": 10,
   "metadata": {},
   "outputs": [
    {
     "data": {
      "text/plain": [
       "<matplotlib.image.AxesImage at 0x7facc21e2550>"
      ]
     },
     "execution_count": 10,
     "metadata": {},
     "output_type": "execute_result"
    },
    {
     "data": {
      "image/png": "[encoded data removed]",
      "text/plain": [
       "<Figure size 432x288 with 1 Axes>"
      ]
     },
     "metadata": {
      "needs_background": "light"
     },
     "output_type": "display_data"
    }
   ],
   "source": [
    "plt.imshow(LEG_model.N.detach().numpy())"
   ]
  },
  {
   "cell_type": "code",
   "execution_count": 6,
   "metadata": {},
   "outputs": [
    {
     "name": "stderr",
     "output_type": "stream",
     "text": [
      "GPU available: False, used: False\n",
      "TPU available: False, using: 0 TPU cores\n",
      "IPU available: False, using: 0 IPUs\n",
      "Missing logger folder: /Users/danbiderman/Dropbox/Columbia/1.Dan/Research/cyclic-gps/cyclic_gps/lightning_logs\n",
      "\n",
      "  | Name | Type | Params\n",
      "------------------------------\n",
      "------------------------------\n",
      "0         Trainable params\n",
      "0         Non-trainable params\n",
      "0         Total params\n",
      "0.000     Total estimated model params size (MB)\n",
      "/Users/danbiderman/miniconda3/envs/cyclic-gps/lib/python3.8/site-packages/pytorch_lightning/trainer/data_loading.py:132: UserWarning: The dataloader, train_dataloader, does not have many workers which may be a bottleneck. Consider increasing the value of the `num_workers` argument` (try 8 which is the number of cpus on this machine) in the `DataLoader` init to improve performance.\n",
      "  rank_zero_warn(\n",
      "/Users/danbiderman/miniconda3/envs/cyclic-gps/lib/python3.8/site-packages/pytorch_lightning/trainer/data_loading.py:432: UserWarning: The number of training samples (1) is smaller than the logging interval Trainer(log_every_n_steps=50). Set a lower value for log_every_n_steps if you want to see logs for the training epoch.\n",
      "  rank_zero_warn(\n"
     ]
    },
    {
     "name": "stdout",
     "output_type": "stream",
     "text": [
      "Epoch 0:   0%|          | 0/1 [00:00<?, ?it/s] tensor(-1.6498, grad_fn=<DivBackward0>)\n",
      "Epoch 1:   0%|          | 0/1 [00:00<?, ?it/s, loss=-1.65, v_num=0]        "
     ]
    },
    {
     "name": "stderr",
     "output_type": "stream",
     "text": [
      "/Users/danbiderman/Dropbox/Columbia/1.Dan/Research/cyclic-gps/cyclic_gps/cyclic_reduction.py:233: UserWarning: torch.triangular_solve is deprecated in favor of torch.linalg.solve_triangularand will be removed in a future PyTorch release.\n",
      "torch.linalg.solve_triangular has its arguments reversed and does not return a copy of one of the inputs.\n",
      "X = torch.triangular_solve(B, A).solution\n",
      "should be replaced with\n",
      "X = torch.linalg.solve_triangular(A, B). (Triggered internally at  /Users/distiller/project/pytorch/aten/src/ATen/native/BatchLinearAlgebra.cpp:1672.)\n",
      "  torch.triangular_solve(input=Os_even_T, A=Ks_even[:N2], upper=False)[0], 1, 2\n"
     ]
    },
    {
     "name": "stdout",
     "output_type": "stream",
     "text": [
      "tensor(-1.6819, grad_fn=<DivBackward0>)\n",
      "Epoch 2:   0%|          | 0/1 [00:00<?, ?it/s, loss=-1.67, v_num=0]        tensor(-1.7121, grad_fn=<DivBackward0>)\n",
      "Epoch 3:   0%|          | 0/1 [00:00<?, ?it/s, loss=-1.68, v_num=0]        tensor(-1.7405, grad_fn=<DivBackward0>)\n",
      "Epoch 4:   0%|          | 0/1 [00:00<?, ?it/s, loss=-1.7, v_num=0]        tensor(-1.7670, grad_fn=<DivBackward0>)\n",
      "Epoch 5:   0%|          | 0/1 [00:00<?, ?it/s, loss=-1.71, v_num=0]        tensor(-1.7921, grad_fn=<DivBackward0>)\n",
      "Epoch 6:   0%|          | 0/1 [00:00<?, ?it/s, loss=-1.72, v_num=0]        tensor(-1.8160, grad_fn=<DivBackward0>)\n",
      "Epoch 7:   0%|          | 0/1 [00:00<?, ?it/s, loss=-1.74, v_num=0]        tensor(-1.8390, grad_fn=<DivBackward0>)\n",
      "Epoch 8:   0%|          | 0/1 [00:00<?, ?it/s, loss=-1.75, v_num=0]        tensor(-1.8611, grad_fn=<DivBackward0>)\n",
      "Epoch 9:   0%|          | 0/1 [00:00<?, ?it/s, loss=-1.76, v_num=0]        tensor(-1.8826, grad_fn=<DivBackward0>)\n",
      "Epoch 10:   0%|          | 0/1 [00:00<?, ?it/s, loss=-1.77, v_num=0]       tensor(-1.9037, grad_fn=<DivBackward0>)\n",
      "Epoch 11:   0%|          | 0/1 [00:00<?, ?it/s, loss=-1.79, v_num=0]        tensor(-1.9247, grad_fn=<DivBackward0>)\n",
      "Epoch 12:   0%|          | 0/1 [00:00<?, ?it/s, loss=-1.8, v_num=0]        tensor(-1.9457, grad_fn=<DivBackward0>)\n",
      "Epoch 13:   0%|          | 0/1 [00:00<?, ?it/s, loss=-1.81, v_num=0]        tensor(-1.9667, grad_fn=<DivBackward0>)\n",
      "Epoch 14:   0%|          | 0/1 [00:00<?, ?it/s, loss=-1.82, v_num=0]        tensor(-1.9878, grad_fn=<DivBackward0>)\n",
      "Epoch 15:   0%|          | 0/1 [00:00<?, ?it/s, loss=-1.83, v_num=0]        tensor(-2.0087, grad_fn=<DivBackward0>)\n",
      "Epoch 16:   0%|          | 0/1 [00:00<?, ?it/s, loss=-1.84, v_num=0]        tensor(-2.0294, grad_fn=<DivBackward0>)\n",
      "Epoch 17:   0%|          | 0/1 [00:00<?, ?it/s, loss=-1.85, v_num=0]        tensor(-2.0497, grad_fn=<DivBackward0>)\n",
      "Epoch 18:   0%|          | 0/1 [00:00<?, ?it/s, loss=-1.86, v_num=0]        tensor(-2.0697, grad_fn=<DivBackward0>)\n",
      "Epoch 19:   0%|          | 0/1 [00:00<?, ?it/s, loss=-1.88, v_num=0]        tensor(-2.0891, grad_fn=<DivBackward0>)\n",
      "Epoch 20:   0%|          | 0/1 [00:00<?, ?it/s, loss=-1.89, v_num=0]        tensor(-2.1080, grad_fn=<DivBackward0>)\n",
      "Epoch 21:   0%|          | 0/1 [00:00<?, ?it/s, loss=-1.91, v_num=0]        tensor(-2.1264, grad_fn=<DivBackward0>)\n",
      "Epoch 22:   0%|          | 0/1 [00:00<?, ?it/s, loss=-1.93, v_num=0]        tensor(-2.1441, grad_fn=<DivBackward0>)\n",
      "Epoch 23:   0%|          | 0/1 [00:00<?, ?it/s, loss=-1.95, v_num=0]        tensor(-2.1613, grad_fn=<DivBackward0>)\n",
      "Epoch 24:   0%|          | 0/1 [00:00<?, ?it/s, loss=-1.97, v_num=0]        tensor(-2.1780, grad_fn=<DivBackward0>)\n",
      "Epoch 25:   0%|          | 0/1 [00:00<?, ?it/s, loss=-1.99, v_num=0]        tensor(-2.1941, grad_fn=<DivBackward0>)\n",
      "Epoch 26:   0%|          | 0/1 [00:00<?, ?it/s, loss=-2.01, v_num=0]        tensor(-2.2097, grad_fn=<DivBackward0>)\n",
      "Epoch 27:   0%|          | 0/1 [00:00<?, ?it/s, loss=-2.03, v_num=0]        tensor(-2.2248, grad_fn=<DivBackward0>)\n",
      "Epoch 28:   0%|          | 0/1 [00:00<?, ?it/s, loss=-2.05, v_num=0]        tensor(-2.2393, grad_fn=<DivBackward0>)\n",
      "Epoch 29:   0%|          | 0/1 [00:00<?, ?it/s, loss=-2.07, v_num=0]        tensor(-2.2533, grad_fn=<DivBackward0>)\n",
      "Epoch 30:   0%|          | 0/1 [00:00<?, ?it/s, loss=-2.09, v_num=0]        tensor(-2.2669, grad_fn=<DivBackward0>)\n",
      "Epoch 31:   0%|          | 0/1 [00:00<?, ?it/s, loss=-2.11, v_num=0]        tensor(-2.2800, grad_fn=<DivBackward0>)\n",
      "Epoch 32:   0%|          | 0/1 [00:00<?, ?it/s, loss=-2.13, v_num=0]        tensor(-2.2926, grad_fn=<DivBackward0>)\n",
      "Epoch 33:   0%|          | 0/1 [00:00<?, ?it/s, loss=-2.14, v_num=0]        tensor(-2.3049, grad_fn=<DivBackward0>)\n",
      "Epoch 34:   0%|          | 0/1 [00:00<?, ?it/s, loss=-2.16, v_num=0]        tensor(-2.3167, grad_fn=<DivBackward0>)\n",
      "Epoch 35:   0%|          | 0/1 [00:00<?, ?it/s, loss=-2.18, v_num=0]        tensor(-2.3282, grad_fn=<DivBackward0>)\n",
      "Epoch 36:   0%|          | 0/1 [00:00<?, ?it/s, loss=-2.19, v_num=0]        tensor(-2.3393, grad_fn=<DivBackward0>)\n",
      "Epoch 37:   0%|          | 0/1 [00:00<?, ?it/s, loss=-2.21, v_num=0]        tensor(-2.3501, grad_fn=<DivBackward0>)\n",
      "Epoch 38:   0%|          | 0/1 [00:00<?, ?it/s, loss=-2.22, v_num=0]        tensor(-2.3607, grad_fn=<DivBackward0>)\n",
      "Epoch 39:   0%|          | 0/1 [00:00<?, ?it/s, loss=-2.24, v_num=0]        tensor(-2.3710, grad_fn=<DivBackward0>)\n",
      "Epoch 40:   0%|          | 0/1 [00:00<?, ?it/s, loss=-2.25, v_num=0]        tensor(-2.3811, grad_fn=<DivBackward0>)\n",
      "Epoch 41:   0%|          | 0/1 [00:00<?, ?it/s, loss=-2.27, v_num=0]        tensor(-2.3910, grad_fn=<DivBackward0>)\n",
      "Epoch 42:   0%|          | 0/1 [00:00<?, ?it/s, loss=-2.28, v_num=0]        tensor(-2.4008, grad_fn=<DivBackward0>)\n",
      "Epoch 43:   0%|          | 0/1 [00:00<?, ?it/s, loss=-2.29, v_num=0]        tensor(-2.4105, grad_fn=<DivBackward0>)\n",
      "Epoch 44:   0%|          | 0/1 [00:00<?, ?it/s, loss=-2.3, v_num=0]        tensor(-2.4201, grad_fn=<DivBackward0>)\n",
      "Epoch 45:   0%|          | 0/1 [00:00<?, ?it/s, loss=-2.32, v_num=0]        tensor(-2.4296, grad_fn=<DivBackward0>)\n",
      "Epoch 46:   0%|          | 0/1 [00:00<?, ?it/s, loss=-2.33, v_num=0]        tensor(-2.4391, grad_fn=<DivBackward0>)\n",
      "Epoch 47:   0%|          | 0/1 [00:00<?, ?it/s, loss=-2.34, v_num=0]        tensor(-2.4486, grad_fn=<DivBackward0>)\n",
      "Epoch 48:   0%|          | 0/1 [00:00<?, ?it/s, loss=-2.35, v_num=0]        tensor(-2.4582, grad_fn=<DivBackward0>)\n",
      "Epoch 49:   0%|          | 0/1 [00:00<?, ?it/s, loss=-2.36, v_num=0]        tensor(-2.4677, grad_fn=<DivBackward0>)\n",
      "Epoch 50:   0%|          | 0/1 [00:00<?, ?it/s, loss=-2.37, v_num=0]        tensor(-2.4773, grad_fn=<DivBackward0>)\n",
      "Epoch 51:   0%|          | 0/1 [00:00<?, ?it/s, loss=-2.38, v_num=0]        tensor(-2.4870, grad_fn=<DivBackward0>)\n",
      "Epoch 52:   0%|          | 0/1 [00:00<?, ?it/s, loss=-2.39, v_num=0]        tensor(-2.4968, grad_fn=<DivBackward0>)\n",
      "Epoch 53:   0%|          | 0/1 [00:00<?, ?it/s, loss=-2.4, v_num=0]         tensor(-2.5067, grad_fn=<DivBackward0>)\n",
      "Epoch 54:   0%|          | 0/1 [00:00<?, ?it/s, loss=-2.41, v_num=0]        tensor(-2.5167, grad_fn=<DivBackward0>)\n",
      "Epoch 55:   0%|          | 0/1 [00:00<?, ?it/s, loss=-2.42, v_num=0]        tensor(-2.5269, grad_fn=<DivBackward0>)\n",
      "Epoch 56:   0%|          | 0/1 [00:00<?, ?it/s, loss=-2.43, v_num=0]        tensor(-2.5372, grad_fn=<DivBackward0>)\n",
      "Epoch 57:   0%|          | 0/1 [00:00<?, ?it/s, loss=-2.44, v_num=0]        tensor(-2.5476, grad_fn=<DivBackward0>)\n",
      "Epoch 58:   0%|          | 0/1 [00:00<?, ?it/s, loss=-2.45, v_num=0]        tensor(-2.5582, grad_fn=<DivBackward0>)\n",
      "Epoch 59:   0%|          | 0/1 [00:00<?, ?it/s, loss=-2.46, v_num=0]        tensor(-2.5690, grad_fn=<DivBackward0>)\n",
      "Epoch 60:   0%|          | 0/1 [00:00<?, ?it/s, loss=-2.47, v_num=0]        tensor(-2.5799, grad_fn=<DivBackward0>)\n",
      "Epoch 61:   0%|          | 0/1 [00:00<?, ?it/s, loss=-2.48, v_num=0]        tensor(-2.5910, grad_fn=<DivBackward0>)\n",
      "Epoch 62:   0%|          | 0/1 [00:00<?, ?it/s, loss=-2.49, v_num=0]        tensor(-2.6022, grad_fn=<DivBackward0>)\n",
      "Epoch 63:   0%|          | 0/1 [00:00<?, ?it/s, loss=-2.5, v_num=0]        tensor(-2.6137, grad_fn=<DivBackward0>)\n",
      "Epoch 64:   0%|          | 0/1 [00:00<?, ?it/s, loss=-2.51, v_num=0]        tensor(-2.6253, grad_fn=<DivBackward0>)\n",
      "Epoch 65:   0%|          | 0/1 [00:00<?, ?it/s, loss=-2.52, v_num=0]        tensor(-2.6371, grad_fn=<DivBackward0>)\n",
      "Epoch 66:   0%|          | 0/1 [00:00<?, ?it/s, loss=-2.53, v_num=0]        tensor(-2.6491, grad_fn=<DivBackward0>)\n",
      "Epoch 67:   0%|          | 0/1 [00:00<?, ?it/s, loss=-2.54, v_num=0]        tensor(-2.6613, grad_fn=<DivBackward0>)\n",
      "Epoch 68:   0%|          | 0/1 [00:00<?, ?it/s, loss=-2.56, v_num=0]        tensor(-2.6737, grad_fn=<DivBackward0>)\n",
      "Epoch 69:   0%|          | 0/1 [00:00<?, ?it/s, loss=-2.57, v_num=0]        tensor(-2.6862, grad_fn=<DivBackward0>)\n",
      "Epoch 70:   0%|          | 0/1 [00:00<?, ?it/s, loss=-2.58, v_num=0]        tensor(-2.6990, grad_fn=<DivBackward0>)\n",
      "Epoch 71:   0%|          | 0/1 [00:00<?, ?it/s, loss=-2.59, v_num=0]        tensor(-2.7120, grad_fn=<DivBackward0>)\n",
      "Epoch 72:   0%|          | 0/1 [00:00<?, ?it/s, loss=-2.6, v_num=0]        tensor(-2.7251, grad_fn=<DivBackward0>)\n",
      "Epoch 73:   0%|          | 0/1 [00:00<?, ?it/s, loss=-2.61, v_num=0]        tensor(-2.7385, grad_fn=<DivBackward0>)\n",
      "Epoch 74:   0%|          | 0/1 [00:00<?, ?it/s, loss=-2.62, v_num=0]        tensor(-2.7520, grad_fn=<DivBackward0>)\n",
      "Epoch 75:   0%|          | 0/1 [00:00<?, ?it/s, loss=-2.63, v_num=0]        tensor(-2.7658, grad_fn=<DivBackward0>)\n",
      "Epoch 76:   0%|          | 0/1 [00:00<?, ?it/s, loss=-2.65, v_num=0]        tensor(-2.7797, grad_fn=<DivBackward0>)\n",
      "Epoch 77:   0%|          | 0/1 [00:00<?, ?it/s, loss=-2.66, v_num=0]        tensor(-2.7939, grad_fn=<DivBackward0>)\n",
      "Epoch 78:   0%|          | 0/1 [00:00<?, ?it/s, loss=-2.67, v_num=0]        tensor(-2.8082, grad_fn=<DivBackward0>)\n",
      "Epoch 79:   0%|          | 0/1 [00:00<?, ?it/s, loss=-2.68, v_num=0]        tensor(-2.8228, grad_fn=<DivBackward0>)\n",
      "Epoch 80:   0%|          | 0/1 [00:00<?, ?it/s, loss=-2.7, v_num=0]        tensor(-2.8376, grad_fn=<DivBackward0>)\n",
      "Epoch 81:   0%|          | 0/1 [00:00<?, ?it/s, loss=-2.71, v_num=0]        tensor(-2.8526, grad_fn=<DivBackward0>)\n",
      "Epoch 82:   0%|          | 0/1 [00:00<?, ?it/s, loss=-2.72, v_num=0]        tensor(-2.8678, grad_fn=<DivBackward0>)\n",
      "Epoch 83:   0%|          | 0/1 [00:00<?, ?it/s, loss=-2.74, v_num=0]        tensor(-2.8832, grad_fn=<DivBackward0>)\n",
      "Epoch 84:   0%|          | 0/1 [00:00<?, ?it/s, loss=-2.75, v_num=0]        tensor(-2.8989, grad_fn=<DivBackward0>)\n",
      "Epoch 85:   0%|          | 0/1 [00:00<?, ?it/s, loss=-2.76, v_num=0]        tensor(-2.9148, grad_fn=<DivBackward0>)\n",
      "Epoch 86:   0%|          | 0/1 [00:00<?, ?it/s, loss=-2.78, v_num=0]        tensor(-2.9309, grad_fn=<DivBackward0>)\n",
      "Epoch 87:   0%|          | 0/1 [00:00<?, ?it/s, loss=-2.79, v_num=0]        tensor(-2.9473, grad_fn=<DivBackward0>)\n",
      "Epoch 88:   0%|          | 0/1 [00:00<?, ?it/s, loss=-2.8, v_num=0]        tensor(-2.9639, grad_fn=<DivBackward0>)\n",
      "Epoch 89:   0%|          | 0/1 [00:00<?, ?it/s, loss=-2.82, v_num=0]        tensor(-2.9807, grad_fn=<DivBackward0>)\n",
      "Epoch 90:   0%|          | 0/1 [00:00<?, ?it/s, loss=-2.83, v_num=0]        tensor(-2.9979, grad_fn=<DivBackward0>)\n",
      "Epoch 91:   0%|          | 0/1 [00:00<?, ?it/s, loss=-2.85, v_num=0]        tensor(-3.0152, grad_fn=<DivBackward0>)\n",
      "Epoch 92:   0%|          | 0/1 [00:00<?, ?it/s, loss=-2.86, v_num=0]        tensor(-3.0329, grad_fn=<DivBackward0>)\n",
      "Epoch 93:   0%|          | 0/1 [00:00<?, ?it/s, loss=-2.88, v_num=0]        tensor(-3.0508, grad_fn=<DivBackward0>)\n",
      "Epoch 94:   0%|          | 0/1 [00:00<?, ?it/s, loss=-2.89, v_num=0]        tensor(-3.0690, grad_fn=<DivBackward0>)\n",
      "Epoch 95:   0%|          | 0/1 [00:00<?, ?it/s, loss=-2.91, v_num=0]        tensor(-3.0875, grad_fn=<DivBackward0>)\n",
      "Epoch 96:   0%|          | 0/1 [00:00<?, ?it/s, loss=-2.93, v_num=0]        tensor(-3.1063, grad_fn=<DivBackward0>)\n",
      "Epoch 97:   0%|          | 0/1 [00:00<?, ?it/s, loss=-2.94, v_num=0]        tensor(-3.1254, grad_fn=<DivBackward0>)\n",
      "Epoch 98:   0%|          | 0/1 [00:00<?, ?it/s, loss=-2.96, v_num=0]        tensor(-3.1448, grad_fn=<DivBackward0>)\n",
      "Epoch 99:   0%|          | 0/1 [00:00<?, ?it/s, loss=-2.98, v_num=0]        tensor(-3.1645, grad_fn=<DivBackward0>)\n",
      "Epoch 99: 100%|██████████| 1/1 [00:00<00:00, 13.70it/s, loss=-2.99, v_num=0]\n"
     ]
    }
   ],
   "source": [
    "trainer = pl.Trainer(max_epochs=MAX_EPOCHS)\n",
    "trainer.fit(model=LEG_model, train_dataloaders=dl)"
   ]
  },
  {
   "cell_type": "code",
   "execution_count": null,
   "metadata": {},
   "outputs": [],
   "source": []
  }
 ],
 "metadata": {
  "interpreter": {
   "hash": "0ddd2684804682b96629dea1cfe46272b130b3dff79996126e8d8403f859f464"
  },
  "kernelspec": {
   "display_name": "Python 3.8.8 ('cyclic-gps')",
   "language": "python",
   "name": "python3"
  },
  "language_info": {
   "codemirror_mode": {
    "name": "ipython",
    "version": 3
   },
   "file_extension": ".py",
   "mimetype": "text/x-python",
   "name": "python",
   "nbconvert_exporter": "python",
   "pygments_lexer": "ipython3",
   "version": "3.8.8"
  },
  "orig_nbformat": 4
 },
 "nbformat": 4,
 "nbformat_minor": 2
}
